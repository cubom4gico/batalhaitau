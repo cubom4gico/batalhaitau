{
 "cells": [
  {
   "cell_type": "code",
   "execution_count": 595,
   "metadata": {},
   "outputs": [],
   "source": [
    "import pandas as pd\n",
    "import numpy as np\n",
    "import os\n",
    "pd.options.display.max_rows = 200"
   ]
  },
  {
   "cell_type": "code",
   "execution_count": 596,
   "metadata": {},
   "outputs": [],
   "source": [
    "os.chdir(r'C:\\Users\\Administrator\\Desktop\\02.Analyses')\n",
    "from myfuncs import *"
   ]
  },
  {
   "cell_type": "markdown",
   "metadata": {},
   "source": [
    "# Carregando as bases "
   ]
  },
  {
   "cell_type": "code",
   "execution_count": 606,
   "metadata": {},
   "outputs": [
    {
     "name": "stderr",
     "output_type": "stream",
     "text": [
      "C:\\ProgramData\\Anaconda3\\lib\\site-packages\\IPython\\core\\interactiveshell.py:2785: DtypeWarning: Columns (4,6,7,9,10,11,12,13,14,15,16,17,18,23,24,25,27,28,29,30,31,32,33,34,35,36,37,38,39,40,41,42,43,44,45,46,47,48,49,50,51,52,53,54,55,56,57,58,59,60,61,62,63) have mixed types. Specify dtype option on import or set low_memory=False.\n",
      "  interactivity=interactivity, compiler=compiler, result=result)\n"
     ]
    }
   ],
   "source": [
    "os.chdir(r'C:\\Users\\Administrator\\Desktop\\01.Data')\n",
    "# rAcertos = pd.read_csv(r'ENEM_ACERTOS_QUESTOES_20180912_0300.csv',sep = ';',encoding='latin-1')\n",
    "rCenso = pd.read_csv(r'base_old.csv',sep = ',',encoding = 'utf-8')"
   ]
  },
  {
   "cell_type": "markdown",
   "metadata": {},
   "source": [
    "### Base de relacao de area e questao "
   ]
  },
  {
   "cell_type": "code",
   "execution_count": 607,
   "metadata": {},
   "outputs": [],
   "source": [
    "rArea = pd.read_excel('provas ENEM 2017 (1).xlsx')"
   ]
  },
  {
   "cell_type": "markdown",
   "metadata": {},
   "source": [
    "# Analisando as bases"
   ]
  },
  {
   "cell_type": "markdown",
   "metadata": {},
   "source": [
    "## Criando base de infos detalhadas de escola "
   ]
  },
  {
   "cell_type": "markdown",
   "metadata": {},
   "source": [
    "### Agrupando informacoes de Censo a nível escola"
   ]
  },
  {
   "cell_type": "code",
   "execution_count": 608,
   "metadata": {
    "scrolled": false
   },
   "outputs": [
    {
     "name": "stdout",
     "output_type": "stream",
     "text": [
      "IN_DISC_MATEMATICA\n",
      "IN_ESPECIALIZACAO\n",
      "IN_MESTRADO\n",
      "IN_DOUTORADO\n",
      "IN_ESPECIFICO_ENS_MEDIO\n"
     ]
    }
   ],
   "source": [
    "tCenso = rCenso.copy()\n",
    "\n",
    "#filtrar colunas\n",
    "disc_columns = [c for c in list(rCenso.filter(regex = 'IN_DISC').columns) if c != 'IN_DISC_MATEMATICA']\n",
    "other_columns = ['IN_EDUCACAO_INDIGENA','IN_ESPECIAL_EXCLUSIVA','IN_ESPECIFICO_EJA','IN_MANT_ESCOLA_PRIVADA_EMP',\n",
    "                'IN_MANT_ESCOLA_PRIVADA_ONG','IN_MANT_ESCOLA_PRIVADA_SIND','IN_MANT_ESCOLA_PRIVADA_SIST_S',\n",
    "                'IN_MANT_ESCOLA_PRIVADA_S_FINS','CONVENIO_ESCOLA','CO_PESSOA_FISICA','CO_UF',\n",
    "                'ID_MATRICULA','ID_TURMA','IN_CONVENIADA_PP','IDADE_DOCENTE','NU_IDADE_REFERENCIA',\n",
    "                'TP_CATEGORIA_ESCOLA_PRIVADA','TP_CONVENIO_PODER_PUBLICO','TP_LOCALIZACAO','TP_NORMAL_MAGISTERIO','TP_MEDIACAO_DIDATICO_PEDAGO',\n",
    "                'TP_SITUACAO_CURSO_1','TP_ZONA_RESIDENCIAL','IN_ESPECIFICO_ANOS_INICIAIS','IN_ESPECIFICO_ANOS_FINAIS','NU_DIAS_ATIVIDADE',\n",
    "                'NU_IDADE','TP_TIPO_CONTRATACAO','TP_TIPO_DOCENTE','NU_MATRICULAS','TP_DEPENDENCIA','NO_ENTIDADE']\n",
    "\n",
    "tCenso.drop(disc_columns,axis = 1,inplace = True)\n",
    "tCenso.drop(other_columns,axis = 1,inplace = True)\n",
    "\n",
    "#criando dummies para categoricos\n",
    "dummy_columns = ['ESCOLARIDADE_DOCENTE','SEXO_DOCENTE','TP_COR_RACA_ALUNO','TP_COR_RACA_DOCENTE','TIPO_LOCALIAZCAO_ESCOLA',\n",
    "                'TP_SEXO_ALUNO']\n",
    "for dc in dummy_columns:\n",
    "    dummies = pd.get_dummies(tCenso[dc],prefix = dc + '_')\n",
    "    tCenso = tCenso.drop(dc,axis  = 1)\n",
    "    tCenso = pd.concat([tCenso,dummies],axis=1)\n",
    "\n",
    "#conversao  de flag\n",
    "flag_columns = ['IN_DISC_MATEMATICA','IN_ESPECIALIZACAO','IN_MESTRADO','IN_DOUTORADO','IN_ESPECIFICO_ENS_MEDIO']\n",
    "for fc in flag_columns:\n",
    "    print(fc)\n",
    "    tCenso[fc] = tCenso[fc].str.replace('Não','0')\n",
    "    tCenso[fc] = tCenso[fc].str.replace('Sim','1')\n",
    "    tCenso[fc] = tCenso[fc].astype('float')\n",
    "\n",
    "#definindo funcao agregado\n",
    "aggregator = {}\n",
    "first_columns = ['CO_UF','TIPO_LOCALIAZCAO_ESCOLA','NO_ENTIDADE']\n",
    "\n",
    "#criando dicionario agregador\n",
    "for c in tCenso.columns:\n",
    "    if c != 'CO_ENTIDADE':\n",
    "        if c in first_columns:\n",
    "            aggregator[c] = 'first'\n",
    "        else:\n",
    "            aggregator[c] = 'mean'\n",
    "        \n",
    "#agrupando conforme dados\n",
    "tCenso = tCenso.groupby('CO_ENTIDADE').agg(aggregator).reset_index()\n",
    "\n",
    "#filtrando escolas que nao temos informacoes sobre existencia de professores de escola de matematica\n",
    "tCenso = tCenso[tCenso['IN_DISC_MATEMATICA'].notnull()]"
   ]
  },
  {
   "cell_type": "markdown",
   "metadata": {},
   "source": [
    "### Agrupando informacoes de acertos a nivel escola"
   ]
  },
  {
   "cell_type": "code",
   "execution_count": 609,
   "metadata": {},
   "outputs": [
    {
     "name": "stdout",
     "output_type": "stream",
     "text": [
      "(2544, 23)\n",
      "(753, 71)\n"
     ]
    }
   ],
   "source": [
    "tAcertos = rAcertos.copy()\n",
    "tAcertos = tAcertos[tAcertos['CO_ESCOLA'].notnull()]\n",
    "\n",
    "aggregator = {}\n",
    "#criando funcao agrupadora\n",
    "for c in tAcertos.columns:\n",
    "    if 'CHECK_' in c:\n",
    "        aggregator[c] = 'mean'\n",
    "    elif 'ACERTOS' in c:\n",
    "        aggregator[c] = 'mean'\n",
    "    elif 'NU_INSCRICAO' in  c:\n",
    "        aggregator[c] = 'count'\n",
    "        \n",
    "tAcertos = tAcertos.groupby('CO_ESCOLA').agg(aggregator).reset_index()\n",
    "\n",
    "#renomeando informacoes\n",
    "tAcertos.rename(columns =  {\"NU_INSCRICAO\":'n_inscricoes'},inplace = True)\n",
    "print(tCenso.shape)\n",
    "tMT = tCenso.merge(tAcertos,left_on='CO_ENTIDADE',right_on ='CO_ESCOLA',how = \"left\")\n",
    "tMT = tMT[tMT['CHECK_1'].notnull()]\n",
    "\n",
    "print(tMT.shape)"
   ]
  },
  {
   "cell_type": "markdown",
   "metadata": {},
   "source": [
    "### Enriquecendo com informacoes de grupos de questoes"
   ]
  },
  {
   "cell_type": "code",
   "execution_count": 610,
   "metadata": {},
   "outputs": [],
   "source": [
    "def mean_col_group(df,index_list):\n",
    "    cols_list = []\n",
    "    for i in index_list:\n",
    "        cols_list.append('CHECK_'+str(i))\n",
    "    return df[cols_list].mean(axis=1)"
   ]
  },
  {
   "cell_type": "markdown",
   "metadata": {},
   "source": [
    "##### Limpando a base de DEPARA entre questao e área"
   ]
  },
  {
   "cell_type": "code",
   "execution_count": 611,
   "metadata": {
    "scrolled": true
   },
   "outputs": [
    {
     "data": {
      "text/html": [
       "<div>\n",
       "<style scoped>\n",
       "    .dataframe tbody tr th:only-of-type {\n",
       "        vertical-align: middle;\n",
       "    }\n",
       "\n",
       "    .dataframe tbody tr th {\n",
       "        vertical-align: top;\n",
       "    }\n",
       "\n",
       "    .dataframe thead th {\n",
       "        text-align: right;\n",
       "    }\n",
       "</style>\n",
       "<table border=\"1\" class=\"dataframe\">\n",
       "  <thead>\n",
       "    <tr style=\"text-align: right;\">\n",
       "      <th></th>\n",
       "      <th>CÓDIGO</th>\n",
       "      <th>403</th>\n",
       "    </tr>\n",
       "  </thead>\n",
       "  <tbody>\n",
       "    <tr>\n",
       "      <th>0</th>\n",
       "      <td>Aritmética</td>\n",
       "      <td>1</td>\n",
       "    </tr>\n",
       "    <tr>\n",
       "      <th>1</th>\n",
       "      <td>Aritmética</td>\n",
       "      <td>2</td>\n",
       "    </tr>\n",
       "    <tr>\n",
       "      <th>40</th>\n",
       "      <td>Aritmética</td>\n",
       "      <td>41</td>\n",
       "    </tr>\n",
       "    <tr>\n",
       "      <th>21</th>\n",
       "      <td>Geometria Espacial</td>\n",
       "      <td>22</td>\n",
       "    </tr>\n",
       "    <tr>\n",
       "      <th>12</th>\n",
       "      <td>Geometria Espacial</td>\n",
       "      <td>13</td>\n",
       "    </tr>\n",
       "    <tr>\n",
       "      <th>8</th>\n",
       "      <td>Geometria Espacial</td>\n",
       "      <td>9</td>\n",
       "    </tr>\n",
       "    <tr>\n",
       "      <th>22</th>\n",
       "      <td>Geometria Espacial</td>\n",
       "      <td>23</td>\n",
       "    </tr>\n",
       "    <tr>\n",
       "      <th>6</th>\n",
       "      <td>Geometria Espacial</td>\n",
       "      <td>7</td>\n",
       "    </tr>\n",
       "    <tr>\n",
       "      <th>31</th>\n",
       "      <td>Geometria Espacial; Geometria Plana</td>\n",
       "      <td>32</td>\n",
       "    </tr>\n",
       "    <tr>\n",
       "      <th>25</th>\n",
       "      <td>Geometria Plana</td>\n",
       "      <td>26</td>\n",
       "    </tr>\n",
       "    <tr>\n",
       "      <th>30</th>\n",
       "      <td>Geometria Plana</td>\n",
       "      <td>31</td>\n",
       "    </tr>\n",
       "    <tr>\n",
       "      <th>26</th>\n",
       "      <td>Geometria Plana</td>\n",
       "      <td>27</td>\n",
       "    </tr>\n",
       "    <tr>\n",
       "      <th>32</th>\n",
       "      <td>Geometria Plana</td>\n",
       "      <td>33</td>\n",
       "    </tr>\n",
       "    <tr>\n",
       "      <th>17</th>\n",
       "      <td>Geometria Plana</td>\n",
       "      <td>18</td>\n",
       "    </tr>\n",
       "    <tr>\n",
       "      <th>20</th>\n",
       "      <td>Geometria Plana</td>\n",
       "      <td>21</td>\n",
       "    </tr>\n",
       "    <tr>\n",
       "      <th>4</th>\n",
       "      <td>Geometria Plana</td>\n",
       "      <td>5</td>\n",
       "    </tr>\n",
       "    <tr>\n",
       "      <th>14</th>\n",
       "      <td>Geometria Plana</td>\n",
       "      <td>15</td>\n",
       "    </tr>\n",
       "    <tr>\n",
       "      <th>2</th>\n",
       "      <td>Geometria Plana</td>\n",
       "      <td>3</td>\n",
       "    </tr>\n",
       "    <tr>\n",
       "      <th>33</th>\n",
       "      <td>Lógica</td>\n",
       "      <td>34</td>\n",
       "    </tr>\n",
       "    <tr>\n",
       "      <th>16</th>\n",
       "      <td>Lógica</td>\n",
       "      <td>17</td>\n",
       "    </tr>\n",
       "    <tr>\n",
       "      <th>18</th>\n",
       "      <td>Lógica</td>\n",
       "      <td>19</td>\n",
       "    </tr>\n",
       "    <tr>\n",
       "      <th>36</th>\n",
       "      <td>Lógica</td>\n",
       "      <td>37</td>\n",
       "    </tr>\n",
       "    <tr>\n",
       "      <th>34</th>\n",
       "      <td>Lógica</td>\n",
       "      <td>35</td>\n",
       "    </tr>\n",
       "    <tr>\n",
       "      <th>23</th>\n",
       "      <td>Lógica</td>\n",
       "      <td>24</td>\n",
       "    </tr>\n",
       "    <tr>\n",
       "      <th>27</th>\n",
       "      <td>Lógica</td>\n",
       "      <td>28</td>\n",
       "    </tr>\n",
       "    <tr>\n",
       "      <th>42</th>\n",
       "      <td>Probabilidade e Estatística</td>\n",
       "      <td>43</td>\n",
       "    </tr>\n",
       "    <tr>\n",
       "      <th>41</th>\n",
       "      <td>Probabilidade e Estatística</td>\n",
       "      <td>42</td>\n",
       "    </tr>\n",
       "    <tr>\n",
       "      <th>38</th>\n",
       "      <td>Probabilidade e Estatística</td>\n",
       "      <td>39</td>\n",
       "    </tr>\n",
       "    <tr>\n",
       "      <th>43</th>\n",
       "      <td>Probabilidade e Estatística</td>\n",
       "      <td>44</td>\n",
       "    </tr>\n",
       "    <tr>\n",
       "      <th>13</th>\n",
       "      <td>Probabilidade e Estatística</td>\n",
       "      <td>14</td>\n",
       "    </tr>\n",
       "    <tr>\n",
       "      <th>39</th>\n",
       "      <td>Probabilidade e Estatística</td>\n",
       "      <td>40</td>\n",
       "    </tr>\n",
       "    <tr>\n",
       "      <th>24</th>\n",
       "      <td>Probabilidade e Estatística</td>\n",
       "      <td>25</td>\n",
       "    </tr>\n",
       "    <tr>\n",
       "      <th>35</th>\n",
       "      <td>Álgebra</td>\n",
       "      <td>36</td>\n",
       "    </tr>\n",
       "    <tr>\n",
       "      <th>37</th>\n",
       "      <td>Álgebra</td>\n",
       "      <td>38</td>\n",
       "    </tr>\n",
       "    <tr>\n",
       "      <th>7</th>\n",
       "      <td>Álgebra</td>\n",
       "      <td>8</td>\n",
       "    </tr>\n",
       "    <tr>\n",
       "      <th>28</th>\n",
       "      <td>Álgebra</td>\n",
       "      <td>29</td>\n",
       "    </tr>\n",
       "    <tr>\n",
       "      <th>3</th>\n",
       "      <td>Álgebra</td>\n",
       "      <td>4</td>\n",
       "    </tr>\n",
       "    <tr>\n",
       "      <th>19</th>\n",
       "      <td>Álgebra</td>\n",
       "      <td>20</td>\n",
       "    </tr>\n",
       "    <tr>\n",
       "      <th>15</th>\n",
       "      <td>Álgebra</td>\n",
       "      <td>16</td>\n",
       "    </tr>\n",
       "    <tr>\n",
       "      <th>11</th>\n",
       "      <td>Álgebra</td>\n",
       "      <td>12</td>\n",
       "    </tr>\n",
       "    <tr>\n",
       "      <th>10</th>\n",
       "      <td>Álgebra</td>\n",
       "      <td>11</td>\n",
       "    </tr>\n",
       "    <tr>\n",
       "      <th>9</th>\n",
       "      <td>Álgebra</td>\n",
       "      <td>10</td>\n",
       "    </tr>\n",
       "    <tr>\n",
       "      <th>5</th>\n",
       "      <td>Álgebra</td>\n",
       "      <td>6</td>\n",
       "    </tr>\n",
       "    <tr>\n",
       "      <th>29</th>\n",
       "      <td>Álgebra</td>\n",
       "      <td>30</td>\n",
       "    </tr>\n",
       "    <tr>\n",
       "      <th>44</th>\n",
       "      <td>Álgebra</td>\n",
       "      <td>45</td>\n",
       "    </tr>\n",
       "  </tbody>\n",
       "</table>\n",
       "</div>"
      ],
      "text/plain": [
       "                                 CÓDIGO 403\n",
       "0                            Aritmética   1\n",
       "1                            Aritmética   2\n",
       "40                           Aritmética  41\n",
       "21                   Geometria Espacial  22\n",
       "12                   Geometria Espacial  13\n",
       "8                    Geometria Espacial   9\n",
       "22                   Geometria Espacial  23\n",
       "6                    Geometria Espacial   7\n",
       "31  Geometria Espacial; Geometria Plana  32\n",
       "25                      Geometria Plana  26\n",
       "30                      Geometria Plana  31\n",
       "26                      Geometria Plana  27\n",
       "32                      Geometria Plana  33\n",
       "17                      Geometria Plana  18\n",
       "20                      Geometria Plana  21\n",
       "4                       Geometria Plana   5\n",
       "14                      Geometria Plana  15\n",
       "2                       Geometria Plana   3\n",
       "33                               Lógica  34\n",
       "16                               Lógica  17\n",
       "18                               Lógica  19\n",
       "36                               Lógica  37\n",
       "34                               Lógica  35\n",
       "23                               Lógica  24\n",
       "27                               Lógica  28\n",
       "42          Probabilidade e Estatística  43\n",
       "41          Probabilidade e Estatística  42\n",
       "38          Probabilidade e Estatística  39\n",
       "43          Probabilidade e Estatística  44\n",
       "13          Probabilidade e Estatística  14\n",
       "39          Probabilidade e Estatística  40\n",
       "24          Probabilidade e Estatística  25\n",
       "35                              Álgebra  36\n",
       "37                              Álgebra  38\n",
       "7                               Álgebra   8\n",
       "28                              Álgebra  29\n",
       "3                               Álgebra   4\n",
       "19                              Álgebra  20\n",
       "15                              Álgebra  16\n",
       "11                              Álgebra  12\n",
       "10                              Álgebra  11\n",
       "9                               Álgebra  10\n",
       "5                               Álgebra   6\n",
       "29                              Álgebra  30\n",
       "44                              Álgebra  45"
      ]
     },
     "execution_count": 611,
     "metadata": {},
     "output_type": "execute_result"
    }
   ],
   "source": [
    "tArea = rArea.copy()\n",
    "tArea = tArea.drop(0,axis = 0).reset_index(drop=True)\n",
    "tArea = tArea[[\"CÓDIGO\",403]]\n",
    "tArea = tArea.sort_values('CÓDIGO')\n",
    "tArea"
   ]
  },
  {
   "cell_type": "markdown",
   "metadata": {},
   "source": [
    "##### Agregando por área de conhecimento de matemática"
   ]
  },
  {
   "cell_type": "code",
   "execution_count": 614,
   "metadata": {},
   "outputs": [],
   "source": [
    "tMT['CHECK_ARITMETICA'] = mean_col_group(tMT,[1,2,41])\n",
    "tMT['CHECK_GEOESP'] = mean_col_group(tMT,[22,13,19,23,7])\n",
    "tMT['CHECK_GEOPLAN'] = mean_col_group(tMT,[32,26,31,27,33,18,21,5,15,3])\n",
    "tMT['CHECK_LOGICA'] = mean_col_group(tMT,[34,17,19,37,35,24,28])\n",
    "tMT['CHECK_PROB_E_ESTAT'] = mean_col_group(tMT,[43,42,39,44,14,40,25])\n",
    "tMT['CHECK_ALGEBRA'] = mean_col_group(tMT,[36,38,8,29,4,20,16,12,11,10,6,30,45])\n"
   ]
  },
  {
   "cell_type": "markdown",
   "metadata": {},
   "source": [
    "### Enriquecendo com dados geolocalizacao"
   ]
  },
  {
   "cell_type": "code",
   "execution_count": 612,
   "metadata": {},
   "outputs": [],
   "source": [
    "rGeo = pd.read_csv(r'escolasr34dez2017.csv',sep = ';',encoding = 'latin-1')\n",
    "tGeo = rGeo[['CODINEP','CEP','LATITUDE','LONGITUDE']]"
   ]
  },
  {
   "cell_type": "code",
   "execution_count": 613,
   "metadata": {},
   "outputs": [],
   "source": [
    "tMT['CO_ENTIDADE'] = tMT['CO_ENTIDADE'].astype('float')\n",
    "tMT  = tMT.merge(tGeo, left_on = 'CO_ENTIDADE',right_on = 'CODINEP', how = 'left')"
   ]
  },
  {
   "cell_type": "markdown",
   "metadata": {},
   "source": [
    "#####  Calculando estatisticas "
   ]
  },
  {
   "cell_type": "code",
   "execution_count": 615,
   "metadata": {},
   "outputs": [],
   "source": [
    "#criando max,mean e min\n",
    "tMT.loc['MAX',:]= tMT.max(axis= 0)\n",
    "tMT.loc['MEAN',:]= tMT.mean(axis= 0)\n",
    "tMT.loc['MIN',:]= tMT.min(axis= 0)\n",
    "\n",
    "tMT.loc['MAX','CO_ENTIDADE']= 99999999\n",
    "tMT.loc['MEAN','CO_ENTIDADE']= 99999998\n",
    "tMT.loc['MIN','CO_ENTIDADE']= 99999997"
   ]
  },
  {
   "cell_type": "markdown",
   "metadata": {},
   "source": [
    "##### Exportando csv "
   ]
  },
  {
   "cell_type": "raw",
   "metadata": {},
   "source": [
    "os.chdir(r'C:\\Users\\Administrator\\Desktop\\01.Data')\n",
    "tMT.to_csv('tMT_comMaxMinMeanporArea.csv',decimal = ',')"
   ]
  },
  {
   "cell_type": "markdown",
   "metadata": {},
   "source": [
    "# Gerando plots "
   ]
  },
  {
   "cell_type": "code",
   "execution_count": 680,
   "metadata": {
    "scrolled": false
   },
   "outputs": [
    {
     "name": "stdout",
     "output_type": "stream",
     "text": [
      "EEEB LOURENCO LEON VON LANGENDONCK\n",
      "43093809.0\n"
     ]
    },
    {
     "data": {
      "text/html": [
       "<div>\n",
       "<style scoped>\n",
       "    .dataframe tbody tr th:only-of-type {\n",
       "        vertical-align: middle;\n",
       "    }\n",
       "\n",
       "    .dataframe tbody tr th {\n",
       "        vertical-align: top;\n",
       "    }\n",
       "\n",
       "    .dataframe thead th {\n",
       "        text-align: right;\n",
       "    }\n",
       "</style>\n",
       "<table border=\"1\" class=\"dataframe\">\n",
       "  <thead>\n",
       "    <tr style=\"text-align: right;\">\n",
       "      <th></th>\n",
       "      <th>CHECK_ARITMETICA</th>\n",
       "      <th>CHECK_GEOESP</th>\n",
       "      <th>CHECK_GEOPLAN</th>\n",
       "      <th>CHECK_LOGICA</th>\n",
       "      <th>CHECK_PROB_E_ESTAT</th>\n",
       "      <th>CHECK_ALGEBRA</th>\n",
       "      <th>n_inscricoes</th>\n",
       "    </tr>\n",
       "  </thead>\n",
       "  <tbody>\n",
       "    <tr>\n",
       "      <th>560</th>\n",
       "      <td>0.185185</td>\n",
       "      <td>0.37037</td>\n",
       "      <td>0.255556</td>\n",
       "      <td>0.248677</td>\n",
       "      <td>0.222222</td>\n",
       "      <td>0.25641</td>\n",
       "      <td>27.0</td>\n",
       "    </tr>\n",
       "  </tbody>\n",
       "</table>\n",
       "</div>"
      ],
      "text/plain": [
       "     CHECK_ARITMETICA  CHECK_GEOESP  CHECK_GEOPLAN  CHECK_LOGICA  \\\n",
       "560          0.185185       0.37037       0.255556      0.248677   \n",
       "\n",
       "     CHECK_PROB_E_ESTAT  CHECK_ALGEBRA  n_inscricoes  \n",
       "560            0.222222        0.25641          27.0  "
      ]
     },
     "metadata": {},
     "output_type": "display_data"
    },
    {
     "data": {
      "image/png": "[encoded data removed]",
      "text/plain": [
       "<Figure size 864x648 with 1 Axes>"
      ]
     },
     "metadata": {},
     "output_type": "display_data"
    }
   ],
   "source": [
    "# Libraries\n",
    "import matplotlib.pyplot as plt\n",
    "import pandas as pd\n",
    "from math import pi\n",
    " \n",
    "# ------- PART 1: Create background\n",
    " \n",
    "# number of variable\n",
    "# categories=list(tMT)[1:]\n",
    "categories = ['CHECK_ARITMETICA','CHECK_GEOESP','CHECK_GEOPLAN','CHECK_LOGICA','CHECK_PROB_E_ESTAT','CHECK_ALGEBRA']\n",
    "N = len(categories)\n",
    " \n",
    "# What will be the angle of each axis in the plot? (we divide the plot / number of variable)\n",
    "angles = [n / float(N) * 2 * pi for n in range(N)]\n",
    "angles += angles[:1]\n",
    " \n",
    "# Initialise the spider plot\n",
    "plt.figure(figsize = (12,9))\n",
    "ax = plt.subplot(111, polar=True)\n",
    " \n",
    "# If you want the first axis to be on top:\n",
    "ax.set_theta_offset(pi / 2)\n",
    "ax.set_theta_direction(-1)\n",
    " \n",
    "# Draw one axe per variable + add labels labels yet\n",
    "plt.xticks(angles[:-1], [c.replace('CHECK_',\"\") for c in categories])\n",
    " \n",
    "# Draw ylabels\n",
    "ax.set_rlabel_position(0)\n",
    "plt.yticks([0.25,0.5], [\"0.25\",'0.5'], color=\"grey\", size=12)\n",
    "plt.ylim(0,0.5)\n",
    " \n",
    " \n",
    "# ------- PART 2: Add plots\n",
    " \n",
    "# Plot each individual = each line of the data\n",
    "# I don't do a loop, because plotting more than 3 groups makes the chart unreadable\n",
    " \n",
    "# Ind1\n",
    "values = tMT[tMT['CO_ENTIDADE'] == 99999998][categories].values.flatten().tolist()\n",
    "values += values[:1]\n",
    "ax.plot(angles, values, linewidth=1, linestyle='solid', label=\"Média\")\n",
    "ax.fill(angles, values, 'r', alpha=0.1)\n",
    " \n",
    "# # Ind2\n",
    "subset = tMT[tMT['n_inscricoes'] > 20]\n",
    "# selected_entidade = subset['CO_ENTIDADE'].sample().values[0]\n",
    "selected_entidade = 43093809.0\n",
    "nome_entidade = rCenso[rCenso['CO_ENTIDADE'] == selected_entidade]['NO_ENTIDADE'].values[0]\n",
    "values = tMT[tMT['CO_ENTIDADE'] == selected_entidade][categories].values.flatten().tolist()\n",
    "values += values[:1]\n",
    "ax.plot(angles, values, linewidth=1, linestyle='solid', label=nome_entidade)\n",
    "ax.fill(angles, values, 'b', alpha=0.1)\n",
    " \n",
    "# Add legend\n",
    "plt.legend(loc='upper right', bbox_to_anchor=(0.1, 0.1))\n",
    "\n",
    "print(nome_entidade)\n",
    "print(selected_entidade)\n",
    "display(tMT[tMT['CO_ENTIDADE'] == selected_entidade][categories + ['n_inscricoes'] ])"
   ]
  },
  {
   "cell_type": "raw",
   "metadata": {},
   "source": [
    "Cidades interessantes\n",
    "43093809.0 \n",
    "43132898.0 \n",
    "41145976.0 \n",
    "43062172.0 \n",
    "43131417.0 \n",
    "41126114.0 "
   ]
  }
 ],
 "metadata": {
  "kernelspec": {
   "display_name": "Python 3",
   "language": "python",
   "name": "python3"
  },
  "language_info": {
   "codemirror_mode": {
    "name": "ipython",
    "version": 3
   },
   "file_extension": ".py",
   "mimetype": "text/x-python",
   "name": "python",
   "nbconvert_exporter": "python",
   "pygments_lexer": "ipython3",
   "version": "3.7.0"
  }
 },
 "nbformat": 4,
 "nbformat_minor": 2
}
